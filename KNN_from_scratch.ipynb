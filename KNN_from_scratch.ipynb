{
  "nbformat": 4,
  "nbformat_minor": 0,
  "metadata": {
    "colab": {
      "name": "KNN from scratch.ipynb",
      "provenance": [],
      "collapsed_sections": [],
      "mount_file_id": "1_vqVoJ04KvtKrdQJ_b00gdiexalwA64p",
      "authorship_tag": "ABX9TyNBZx7u5XhdCL6DkTICq0KK",
      "include_colab_link": true
    },
    "kernelspec": {
      "name": "python3",
      "display_name": "Python 3"
    },
    "language_info": {
      "name": "python"
    }
  },
  "cells": [
    {
      "cell_type": "markdown",
      "metadata": {
        "id": "view-in-github",
        "colab_type": "text"
      },
      "source": [
        "<a href=\"https://colab.research.google.com/github/crishna0401/hello-world/blob/main/KNN_from_scratch.ipynb\" target=\"_parent\"><img src=\"https://colab.research.google.com/assets/colab-badge.svg\" alt=\"Open In Colab\"/></a>"
      ]
    },
    {
      "cell_type": "code",
      "execution_count": 9,
      "metadata": {
        "id": "zVZeHdCk0__A"
      },
      "outputs": [],
      "source": [
        "import numpy as np\n",
        "import pandas as pd\n",
        "import statistics \n",
        "from sklearn.metrics import accuracy_score"
      ]
    },
    {
      "cell_type": "code",
      "source": [
        "b = np.load('/content/drive/MyDrive/Assignments_PRNN/A1/data_sets/pneumoniamnist.npz')\n",
        "train_images=b['train_images']\n",
        "val_images=b['val_images']\n",
        "test_images=b['test_images']\n",
        "train_labels=b['train_labels']\n",
        "val_labels=b['val_labels']\n",
        "test_labels=b['test_labels']\n",
        "train_images= train_images.reshape((4708,784))\n",
        "test_images= test_images.reshape((624,784))\n",
        "val_images= val_images.reshape((524,784))\n",
        "train_data=np.hstack((train_images,train_labels))\n",
        "test_data=np.hstack((test_images,test_labels))\n",
        "val_data=np.hstack((val_images,val_labels))\n"
      ],
      "metadata": {
        "id": "s7cdcme92Dd1"
      },
      "execution_count": 10,
      "outputs": []
    },
    {
      "cell_type": "code",
      "source": [
        "class Knn():\n",
        "  def __init__(self,neighbours,dist_metric,p):\n",
        "    self.neighbours = neighbours                                                                                    \n",
        "    self.dist_metric = dist_metric\n",
        "    self.p=p\n",
        "  def getdistance(self,x,y):\n",
        "    if self.dist_metric =='eucledian':\n",
        "      return np.sqrt(np.sum(np.square(x-y)))\n",
        "    \n",
        "    if self.dist_metric =='manhattan':\n",
        "      return np.sum(np.abs(x-y))\n",
        "\n",
        "    if self.dist_metric =='minkowski':\n",
        "      p = self.p\n",
        "      return (np.sum((np.abs(x-y)**p)))**(1/p)\n",
        "\n",
        "  def nearest_neighbors(self,train,x_test):\n",
        "    list=[]\n",
        "    nn=[]\n",
        "    for i in range(train.shape[0]):\n",
        "      s=train[i,]\n",
        "      d = self.getdistance(s,x_test)\n",
        "      list.append((s,d))\n",
        "    k = self.neighbours\n",
        "    list.sort(key=lambda x: x[1])\n",
        "    for j in range(k):\n",
        "      nn.append(list[j][0])\n",
        "  \n",
        "    return nn\n",
        "# train data should have labels at last of each instance (last col of data is label data)\n",
        "  def predict(self,train,test):\n",
        "    prediction=[]\n",
        "    for i in range(test.shape[0]):\n",
        "      x_test = test_data[i,]\n",
        "      nn = self.nearest_neighbors(train,x_test)\n",
        "      class_labels=[]\n",
        "      for i in nn:\n",
        "        class_labels.append(i[len(i)-1])\n",
        "      class_label = statistics.mode(class_labels)\n",
        "      prediction.append(class_label)\n",
        "    return prediction\n",
        "\n",
        "# y_test and y_pred should be of the from 1D array or list    \n",
        "  def accuracy(self,y_test,y_pred):\n",
        "    count =0\n",
        "    for i in range(len(y_pred)):\n",
        "      if y_pred[i]==y_test[i]:\n",
        "        count+=1\n",
        "    accuracy = count*100/len(pred)\n",
        "    return accuracy\n"
      ],
      "metadata": {
        "id": "3_4TRYFy1I1R"
      },
      "execution_count": 11,
      "outputs": []
    },
    {
      "cell_type": "code",
      "source": [
        "model = Knn(neighbours=5,dist_metric='eucledian',p=2)\n",
        "pred = model.predict(train_data,test_data)\n",
        "b = test_labels.tolist()\n",
        "acc = model.accuracy(b,pred)\n",
        "print(f\"{acc:.2f}\")"
      ],
      "metadata": {
        "colab": {
          "base_uri": "https://localhost:8080/"
        },
        "id": "mUpS7RSzP4tT",
        "outputId": "cea02dcd-936a-4ef3-c62b-a3ab1dce0021"
      },
      "execution_count": 12,
      "outputs": [
        {
          "output_type": "stream",
          "name": "stdout",
          "text": [
            "84.46\n"
          ]
        }
      ]
    }
  ]
}